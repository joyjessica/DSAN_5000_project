{
 "cells": [
  {
   "cell_type": "markdown",
   "metadata": {},
   "source": [
    "---\n",
    "title: \"Data Collection\"\n",
    "format:\n",
    "    html: \n",
    "        code-fold: false\n",
    "---"
   ]
  },
  {
   "cell_type": "markdown",
   "metadata": {},
   "source": [
    "{{< include instructions.qmd >}} "
   ]
  },
  {
   "cell_type": "markdown",
   "metadata": {},
   "source": [
    "\n",
    "{{< include overview.qmd >}} "
   ]
  },
  {
   "cell_type": "markdown",
   "metadata": {},
   "source": [
    "{{< include methods.qmd >}} "
   ]
  },
  {
   "cell_type": "markdown",
   "metadata": {},
   "source": [
    "### American Community Survey API\n",
    "In the following code, I first used the requests library to retrieve the Census data from the American Community Survey. The params include get and for, which specify the columns we want and to pull data at the zip code level, respectively. Chat GPT was used to brainstorm potentional relevant columns to pull from the 10,000+ columns that would satisfy the project objectives. I stored this in a pandas dataframe and renamed the columns to ensure readability. Finally, I exported this dataframe to a csv file to prepare for data cleaning.\n"
   ]
  },
  {
   "cell_type": "code",
   "execution_count": 2,
   "metadata": {},
   "outputs": [
    {
     "name": "stdout",
     "output_type": "stream",
     "text": [
      "      Percent No High School (25+) Percent Bachelor's Degree or Higher (25+)  \\\n",
      "0                             None                                      None   \n",
      "1                             None                                      None   \n",
      "2                             None                                      None   \n",
      "3                             None                                      None   \n",
      "4                             None                                      None   \n",
      "...                            ...                                       ...   \n",
      "33769                          0.0                                      64.0   \n",
      "33770                          3.0                                      17.0   \n",
      "33771                          0.9                                       9.2   \n",
      "33772                          0.0                                       0.0   \n",
      "33773                          1.7                                      18.0   \n",
      "\n",
      "      Percent Language Other Than English at Home  \\\n",
      "0                                            None   \n",
      "1                                            None   \n",
      "2                                            None   \n",
      "3                                            None   \n",
      "4                                            None   \n",
      "...                                           ...   \n",
      "33769                                         0.0   \n",
      "33770                                         5.2   \n",
      "33771                                         4.9   \n",
      "33772                                       100.0   \n",
      "33773                                         4.6   \n",
      "\n",
      "      Percent Population with Disabilities Percent Foreign-Born Population  \\\n",
      "0                                     None                            None   \n",
      "1                                     None                            None   \n",
      "2                                     None                            None   \n",
      "3                                     None                            None   \n",
      "4                                     None                            None   \n",
      "...                                    ...                             ...   \n",
      "33769                                 36.0                             0.0   \n",
      "33770                                 21.0                             3.2   \n",
      "33771                                 24.7                             2.6   \n",
      "33772                                100.0                           100.0   \n",
      "33773                                 23.1                             3.8   \n",
      "\n",
      "      Percent Households with Broadband Internet Median Household Income  \\\n",
      "0                                           None                   17526   \n",
      "1                                           None                   20260   \n",
      "2                                           None                   17703   \n",
      "3                                           None                   19603   \n",
      "4                                           None                   22796   \n",
      "...                                          ...                     ...   \n",
      "33769                                       64.0              -666666666   \n",
      "33770                                       64.7                   80313   \n",
      "33771                                       75.4                   78365   \n",
      "33772                                      100.0              -666666666   \n",
      "33773                                       81.1                   61125   \n",
      "\n",
      "      Percent Households on SNAP/Food Stamps zip code tabulation area  \n",
      "0                                       57.9                    00601  \n",
      "1                                       57.0                    00602  \n",
      "2                                       53.3                    00603  \n",
      "3                                       58.5                    00606  \n",
      "4                                       55.4                    00610  \n",
      "...                                      ...                      ...  \n",
      "33769                                    0.0                    99923  \n",
      "33770                                    9.4                    99925  \n",
      "33771                                   28.0                    99926  \n",
      "33772                                    0.0                    99927  \n",
      "33773                                   13.4                    99929  \n",
      "\n",
      "[33774 rows x 9 columns]\n"
     ]
    }
   ],
   "source": [
    "import requests\n",
    "import pandas as pd\n",
    "\n",
    "\n",
    "# base url + specifiy params\n",
    "url = \"https://api.census.gov/data/2022/acs/acs5/profile\"\n",
    "params = {\n",
    "    \"get\": \"DP02_0060PE,DP02_0068PE,DP02_0114PE,DP02_0072PE,DP02_0094PE,DP02_0154PE,DP03_0062E,DP03_0074PE\",\n",
    "    \"for\": \"zip code tabulation area:*\",\n",
    "    \"key\": \"1c6835368d6cc1f7472ed2e8a39e07ee7e9d1cd6\"\n",
    "}\n",
    "\n",
    "response = requests.get(url, params=params)\n",
    "\n",
    "# check the response\n",
    "if response.status_code == 200:\n",
    "    data = response.json()\n",
    "    df = pd.DataFrame(data[1:], columns=data[0])\n",
    "\n",
    "    df.rename(columns={\n",
    "    \"DP02_0060PE\": \"Percent No High School (25+)\",\n",
    "    \"DP02_0068PE\": \"Percent Bachelor's Degree or Higher (25+)\",\n",
    "    \"DP02_0114PE\": \"Percent Language Other Than English at Home\",\n",
    "    \"DP02_0072PE\": \"Percent Population with Disabilities\",\n",
    "    \"DP02_0094PE\": \"Percent Foreign-Born Population\",\n",
    "    \"DP02_0154PE\": \"Percent Households with Broadband Internet\",\n",
    "    \"DP03_0062E\": \"Median Household Income\",\n",
    "    \"DP03_0074PE\": \"Percent Households on SNAP/Food Stamps\"\n",
    "    }, inplace=True)\n",
    "\n",
    "    print(df)\n",
    "else:\n",
    "    print(f\"Error: {response.status_code} - {response.text}\")"
   ]
  },
  {
   "cell_type": "code",
   "execution_count": 3,
   "metadata": {},
   "outputs": [],
   "source": [
    "#export to csv\n",
    "df.to_csv('../../data/raw-data/ACS_data.csv')"
   ]
  },
  {
   "cell_type": "markdown",
   "metadata": {},
   "source": [
    "### NYC Open Data API\n",
    "This data on graduation rate outcomes is taken from NYC Open Data. This code is adapted from the API documentation (https://dev.socrata.com/foundry/data.cityofnewyork.us/3vje-du8p). We use the library Socrata from sodapy to retrieve the data. The pakcage returns the JSON data to a Python list of dictionaries so we can easily convert to a pandas dataframe."
   ]
  },
  {
   "cell_type": "code",
   "execution_count": 4,
   "metadata": {},
   "outputs": [
    {
     "name": "stderr",
     "output_type": "stream",
     "text": [
      "WARNING:root:Requests made without an app_token will be subject to strict throttling limits.\n"
     ]
    }
   ],
   "source": [
    "from sodapy import Socrata\n",
    "\n",
    "# Unauthenticated client works with public data sets\n",
    "\n",
    "client = Socrata(\"data.cityofnewyork.us\", None)\n",
    "results = client.get(\"mjm3-8dw8\", limit=321002)\n",
    "\n",
    "# convert to pandas df\n",
    "results_df = pd.DataFrame.from_records(results)"
   ]
  },
  {
   "cell_type": "code",
   "execution_count": 32,
   "metadata": {},
   "outputs": [],
   "source": [
    "#export to csv\n",
    "results_df.to_csv('../../data/raw-data/dropout_data.csv')"
   ]
  },
  {
   "cell_type": "markdown",
   "metadata": {},
   "source": [
    "{{< include closing.qmd >}} "
   ]
  }
 ],
 "metadata": {
  "kernelspec": {
   "display_name": "base",
   "language": "python",
   "name": "python3"
  },
  "language_info": {
   "codemirror_mode": {
    "name": "ipython",
    "version": 3
   },
   "file_extension": ".py",
   "mimetype": "text/x-python",
   "name": "python",
   "nbconvert_exporter": "python",
   "pygments_lexer": "ipython3",
   "version": "3.11.10"
  }
 },
 "nbformat": 4,
 "nbformat_minor": 2
}
